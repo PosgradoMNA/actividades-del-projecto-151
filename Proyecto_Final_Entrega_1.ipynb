{
  "nbformat": 4,
  "nbformat_minor": 0,
  "metadata": {
    "colab": {
      "provenance": [],
      "authorship_tag": "ABX9TyOOQ/5o/pKucgA03Y27cqZW",
      "include_colab_link": true
    },
    "kernelspec": {
      "name": "python3",
      "display_name": "Python 3"
    },
    "language_info": {
      "name": "python"
    }
  },
  "cells": [
    {
      "cell_type": "markdown",
      "metadata": {
        "id": "view-in-github",
        "colab_type": "text"
      },
      "source": [
        "<a href=\"https://colab.research.google.com/github/PosgradoMNA/actividades-del-projecto-151/blob/main/Proyecto_Final_Entrega_27_de_Septiembre.ipynb\" target=\"_parent\"><img src=\"https://colab.research.google.com/assets/colab-badge.svg\" alt=\"Open In Colab\"/></a>"
      ]
    },
    {
      "cell_type": "code",
      "execution_count": null,
      "metadata": {
        "id": "GbOYx7aK7hSF"
      },
      "outputs": [],
      "source": []
    },
    {
      "cell_type": "markdown",
      "source": [
        "Jesús Christopher López González A01201236, Daniel López Aguilar A01121284\n",
        "El nombre que caracteriza el conjunto de datos:\n",
        "\n",
        "Datos de facturación, impuestos y transacciones bancarias.\n",
        "\n",
        "La organización que lo generó.\n",
        "\n",
        "Contaayuda\n",
        "\n",
        "Incluya un enlace de Internet donde se puedan descargar el base de datos en línea\n",
        "\n",
        "https://drive.google.com/drive/folders/1JQjMm7LGK0M33zECe3j5x24kqjF3oTjT\n  , https://www.contaayuda.com/",
        "\n",
        "\n",
        "\n",
        "Describe el conjunto de datos.\n",
        "\n",
        "¿Qué datos contiene?\n",
        "\n",
        "Cada tabla contiene información de transacciones fiscales, bancarias, de impuestos y de clientes relacionados a estas tablas. Adicional estamos adjuntando un archivo de Word con un diccionario de datos.\n",
        "\n",
        "¿Cuáles son algunas de las preguntas de investigación que podría responder con estos datos?\n",
        "\n",
        "Estacionalidad en el pago de impuestos?\n",
        "Predicción de compras por código postal?\n",
        "Predicción de gastos por código postal?\n",
        "Relación entre gastos y fechas?\n",
        "Relación entre tablas de facturas y transacciones bancarias?\n",
        "Clusters de datos por fecha o por cliente?\n",
        "Clusters de datos por código postal?\n",
        "Predicciones entre compras, código postal y descripción de actividades?\n",
        "\n",
        "¿Qué actor (empresa, sector de la sociedad, organismo descentralizado, gobierno, etc.) estaría interesado en las preguntas mencionadas que identificó?\n",
        "\n",
        "Gobiernos municipales, estatales y federales para planeación de la política pública de una zona geográfica o instituciones estadísticas como el INEGI o Banxico para realizar predicciones de política monetaria por zonas o secciones de la economía.\n"
      ],
      "metadata": {
        "id": "8QRyUI0y7hr5"
      }
    },
    {
      "cell_type": "code",
      "source": [],
      "metadata": {
        "id": "bXyy51i07l1s"
      },
      "execution_count": null,
      "outputs": []
    }
  ]
}
