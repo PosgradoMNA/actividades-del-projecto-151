{
  "nbformat": 4,
  "nbformat_minor": 0,
  "metadata": {
    "colab": {
      "provenance": [],
      "authorship_tag": "ABX9TyPB0fx2ut7MWf4o3D/UOLkh",
      "include_colab_link": true
    },
    "kernelspec": {
      "name": "python3",
      "display_name": "Python 3"
    },
    "language_info": {
      "name": "python"
    }
  },
  "cells": [
    {
      "cell_type": "markdown",
      "metadata": {
        "id": "view-in-github",
        "colab_type": "text"
      },
      "source": [
        "<a href=\"https://colab.research.google.com/github/PosgradoMNA/actividades-del-projecto-151/blob/main/Entrega2_Proyecto_Final.ipynb\" target=\"_parent\"><img src=\"https://colab.research.google.com/assets/colab-badge.svg\" alt=\"Open In Colab\"/></a>"
      ]
    },
    {
      "cell_type": "code",
      "execution_count": null,
      "metadata": {
        "id": "iTq7jT3F0ws_"
      },
      "outputs": [],
      "source": []
    },
    {
      "cell_type": "markdown",
      "source": [
        "Jesús Christopher López González A01201236, \n",
        "Daniel López Aguilar A01121284"
      ],
      "metadata": {
        "id": "Ly-tcOn208Za"
      }
    },
    {
      "cell_type": "markdown",
      "source": [
        "Identificar una metodología que vas a usar durante la realización del proyecto\n",
        "## Metodología a usar en el proyecto Crisp DM"
      ],
      "metadata": {
        "id": "LE--W-Dl1DKL"
      }
    },
    {
      "cell_type": "markdown",
      "source": [
        "Escribe los pasos estándares en un máximo de 3 oraciones, por cada fase\n",
        "\n",
        "Link a Miro:\n",
        "\n",
        "https://miro.com/app/board/uXjVPTAtkh4=/?share_link_id=304189073379\n",
        "\n",
        "Pasos:\n",
        "\n",
        "### 1.-Business Undestanding.\n",
        "    Proceso en el cual hay un primer acercamiento a la necesidad del negocio,  en esta etapa es fundamental el responder a las preguntas ¿Qué problema buscamos resolver?, ¿Qué voy a hacer si logro tener la información que busco?, ¿Vale la pena invertir tiempo en el proyecto?\n",
        "\n",
        "### 2.-Data undestanding.\n",
        "     Etapa en la cual se realiza inventario de que datos existen así como la calidad. Se evalúa la disponibilidad, frecuencia, seguridad, confiabilidad, que tan completa esta la información, etc. Esto con el objetivo de entender cómo se va a tener que transformar los datos para llegar al resultado. Constantemente conforme se va explorando la información, la necesidad de regresar a la etapa anterior es natural con el fin de entender mejor el negocio.\n",
        "\n",
        "### 3.-Data preparation.\n",
        "    Etapa en la cual se limpian, unen y transforman los datos con el fin de convertirlos en la materia prima que va a necesitar los modelos o análisis a construir.\n",
        "\n",
        "### 4.-Modeling\n",
        "    Etapa de creación de modelo analítico que responda las necesidades del negocio, en ocasiones esta etapa requiere un ajuste de los datos procesados con el fin de poder lograr el mejor desempeño posible.\n",
        "\n",
        "### 5.-Evaluation\n",
        "    En esta etapa se evalúa la eficiencia del modelo creado en el paso anterior. De acuerdo con el % de error que el modelo pueda desempeñar se realizan ajustes al modelo con el fin de lograr el % de error buscado. En ocasiones esta etapa requiere reconsiderar el entendimiento del negocio cuando los resultados están muy alejados de lo esperado.\n",
        "\n",
        "### 6.-Deployment\n",
        "    Lanzamiento en producción del modelo creado considerando los políticas de roll out & seguimiento de la organización."
      ],
      "metadata": {
        "id": "cHI6HGC71OYg"
      }
    },
    {
      "cell_type": "markdown",
      "source": [],
      "metadata": {
        "id": "7wOxHYO95LIh"
      }
    }
  ]
}